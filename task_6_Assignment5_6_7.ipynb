{
 "cells": [
  {
   "cell_type": "code",
   "execution_count": 1,
   "metadata": {},
   "outputs": [],
   "source": [
    "import pandas as pd\n",
    "import matplotlib.pyplot as plt\n",
    "import numpy as np\n",
    "from sklearn import linear_model\n",
    "from sklearn.linear_model import LinearRegression\n",
    "from sklearn.model_selection import train_test_split\n",
    "from sklearn import metrics\n"
   ]
  },
  {
   "cell_type": "markdown",
   "metadata": {},
   "source": [
    "# Assignment5\n"
   ]
  },
  {
   "cell_type": "markdown",
   "metadata": {},
   "source": [
    "## Ground Cricket Chirps\n",
    "\n",
    "In _The Song of Insects_ (1948) by George W. Pierce, Pierce mechanically measured the frequency (the number of wing vibrations per second) of chirps (or pulses of sound) made by a striped ground cricket, at various ground temperatures.  Since crickets are ectotherms (cold-blooded), the rate of their physiological processes and their overall metabolism are influenced by temperature.  Consequently, there is reason to believe that temperature would have a profound effect on aspects of their behavior, such as chirp frequency.\n",
    "\n",
    "In general, it was found that crickets did not sing at temperatures colder than 60º F. or warmer than 100º F."
   ]
  },
  {
   "cell_type": "markdown",
   "metadata": {},
   "source": [
    "### Tasks\n",
    "\n",
    "1. Find the linear regression equation for this data.\n",
    "2. Chart the original data and the equation on the chart.\n",
    "3. Find the equation's $R^2$ score (use the `.score` method) to determine whether the\n",
    "equation is a good fit for this data. (0.8 and greater is considered a strong correlation.)\n",
    "4. Extrapolate data:  If the ground temperature reached 95, then at what approximate rate would you expect the crickets to be chirping?\n",
    "5. Interpolate data:  With a listening device, you discovered that on a particular morning the crickets were chirping at a rate of 18 chirps per second.  What was the approximate ground temperature that morning? "
   ]
  },
  {
   "cell_type": "code",
   "execution_count": 4,
   "metadata": {},
   "outputs": [
    {
     "data": {
      "text/html": [
       "<div>\n",
       "<style scoped>\n",
       "    .dataframe tbody tr th:only-of-type {\n",
       "        vertical-align: middle;\n",
       "    }\n",
       "\n",
       "    .dataframe tbody tr th {\n",
       "        vertical-align: top;\n",
       "    }\n",
       "\n",
       "    .dataframe thead th {\n",
       "        text-align: right;\n",
       "    }\n",
       "</style>\n",
       "<table border=\"1\" class=\"dataframe\">\n",
       "  <thead>\n",
       "    <tr style=\"text-align: right;\">\n",
       "      <th></th>\n",
       "      <th>Chirps/Second</th>\n",
       "      <th>Ground Temperature</th>\n",
       "    </tr>\n",
       "  </thead>\n",
       "  <tbody>\n",
       "    <tr>\n",
       "      <th>0</th>\n",
       "      <td>20.0</td>\n",
       "      <td>88.6</td>\n",
       "    </tr>\n",
       "    <tr>\n",
       "      <th>1</th>\n",
       "      <td>16.0</td>\n",
       "      <td>71.6</td>\n",
       "    </tr>\n",
       "    <tr>\n",
       "      <th>2</th>\n",
       "      <td>19.8</td>\n",
       "      <td>93.3</td>\n",
       "    </tr>\n",
       "    <tr>\n",
       "      <th>3</th>\n",
       "      <td>18.4</td>\n",
       "      <td>84.3</td>\n",
       "    </tr>\n",
       "    <tr>\n",
       "      <th>4</th>\n",
       "      <td>17.1</td>\n",
       "      <td>80.6</td>\n",
       "    </tr>\n",
       "    <tr>\n",
       "      <th>5</th>\n",
       "      <td>15.5</td>\n",
       "      <td>75.2</td>\n",
       "    </tr>\n",
       "    <tr>\n",
       "      <th>6</th>\n",
       "      <td>14.7</td>\n",
       "      <td>69.7</td>\n",
       "    </tr>\n",
       "    <tr>\n",
       "      <th>7</th>\n",
       "      <td>15.7</td>\n",
       "      <td>71.6</td>\n",
       "    </tr>\n",
       "    <tr>\n",
       "      <th>8</th>\n",
       "      <td>15.4</td>\n",
       "      <td>69.4</td>\n",
       "    </tr>\n",
       "    <tr>\n",
       "      <th>9</th>\n",
       "      <td>16.3</td>\n",
       "      <td>83.3</td>\n",
       "    </tr>\n",
       "    <tr>\n",
       "      <th>10</th>\n",
       "      <td>15.0</td>\n",
       "      <td>79.6</td>\n",
       "    </tr>\n",
       "    <tr>\n",
       "      <th>11</th>\n",
       "      <td>17.2</td>\n",
       "      <td>82.6</td>\n",
       "    </tr>\n",
       "    <tr>\n",
       "      <th>12</th>\n",
       "      <td>16.0</td>\n",
       "      <td>80.6</td>\n",
       "    </tr>\n",
       "    <tr>\n",
       "      <th>13</th>\n",
       "      <td>17.0</td>\n",
       "      <td>83.5</td>\n",
       "    </tr>\n",
       "    <tr>\n",
       "      <th>14</th>\n",
       "      <td>14.4</td>\n",
       "      <td>76.3</td>\n",
       "    </tr>\n",
       "  </tbody>\n",
       "</table>\n",
       "</div>"
      ],
      "text/plain": [
       "    Chirps/Second  Ground Temperature\n",
       "0            20.0                88.6\n",
       "1            16.0                71.6\n",
       "2            19.8                93.3\n",
       "3            18.4                84.3\n",
       "4            17.1                80.6\n",
       "5            15.5                75.2\n",
       "6            14.7                69.7\n",
       "7            15.7                71.6\n",
       "8            15.4                69.4\n",
       "9            16.3                83.3\n",
       "10           15.0                79.6\n",
       "11           17.2                82.6\n",
       "12           16.0                80.6\n",
       "13           17.0                83.5\n",
       "14           14.4                76.3"
      ]
     },
     "execution_count": 4,
     "metadata": {},
     "output_type": "execute_result"
    }
   ],
   "source": [
    "ground_cricket_data = {\"Chirps/Second\": [20.0, 16.0, 19.8, 18.4, 17.1, 15.5, 14.7,\n",
    "                                         15.7, 15.4, 16.3, 15.0, 17.2, 16.0, 17.0,\n",
    "                                         14.4],\n",
    "                       \"Ground Temperature\": [88.6, 71.6, 93.3, 84.3, 80.6, 75.2, 69.7,\n",
    "                                              71.6, 69.4, 83.3, 79.6, 82.6, 80.6, 83.5,\n",
    "                                              76.3]}\n",
    "df = pd.DataFrame(ground_cricket_data)\n",
    "df"
   ]
  },
  {
   "cell_type": "code",
   "execution_count": 7,
   "metadata": {},
   "outputs": [
    {
     "name": "stdout",
     "output_type": "stream",
     "text": [
      "Error score of training dataset 0.6813394128565424\n",
      "coffecient [[0.20119124]]\n",
      "Intercept [0.60051489]\n",
      "Error score of testing dataset 0.9265616592526871\n"
     ]
    },
    {
     "data": {
      "text/plain": [
       "[<matplotlib.lines.Line2D at 0x238dfe85fd0>]"
      ]
     },
     "execution_count": 7,
     "metadata": {},
     "output_type": "execute_result"
    },
    {
     "data": {
      "image/png": "[encoded data removed]",
      "text/plain": [
       "<Figure size 432x288 with 1 Axes>"
      ]
     },
     "metadata": {
      "needs_background": "light"
     },
     "output_type": "display_data"
    }
   ],
   "source": [
    "# with splitting the data with training and testing\n",
    "# Load the data\n",
    "temp=df.drop(\"Chirps/Second\", axis='columns')\n",
    "chirps=df[\"Chirps/Second\"]\n",
    "\n",
    "# split the data for training and testing\n",
    "temp_train,temp_test,chirps_train,chirps_test = train_test_split(temp,chirps,test_size=0.2,random_state=2)\n",
    "#print(temp_train.shape,chirps_train.shape,temp_test.shape,chirps_test.shape)\n",
    "xtrain=temp_train.values.reshape(-1,1)\n",
    "ytrain=chirps_train.values.reshape(-1,1)\n",
    "xtest=temp_test.values.reshape(-1,1)\n",
    "ytest=chirps_test.values.reshape(-1,1)\n",
    "\n",
    "# Model Fitting\n",
    "lr=LinearRegression()\n",
    "lr.fit(xtrain,ytrain)\n",
    "Y_pred_train=lr.predict(xtrain)\n",
    "#print(Y_pred_train)\n",
    "er_scr=metrics.r2_score(ytrain,Y_pred_train)\n",
    "print(\"Error score of training dataset\", er_scr)\n",
    "test_pred=lr.predict(xtest)\n",
    "\n",
    "## 1.Find the linear regression equation for this data.\n",
    "print(\"coffecient\",lr.coef_)\n",
    "print(\"Intercept\",lr.intercept_)\n",
    "Yeq=(xtest*lr.coef_)+lr.intercept_\n",
    "#print(Yeq)\n",
    "\n",
    "\n",
    "## 3.Find the equation's  𝑅2  \n",
    "er_scr_test=metrics.r2_score(ytest,test_pred)\n",
    "print(\"Error score of testing dataset\",er_scr_test)\n",
    "\n",
    "lr.diff = pd.DataFrame({'Actual value': ytest.flatten(), 'Predicted value': test_pred.flatten()})\n",
    "#lr.diff.head()\n",
    "\n",
    "## 2.Chart the original data and the equation on the chart.\n",
    "plt.xlabel(\"Ground Temperature\")\n",
    "plt.ylabel(\"Chirps/Second\")\n",
    "plt.scatter(temp,chirps,color=\"red\",marker=\"+\")\n",
    "plt.plot(xtest,test_pred,color=\"blue\")"
   ]
  },
  {
   "cell_type": "code",
   "execution_count": null,
   "metadata": {},
   "outputs": [],
   "source": [
    "## Without splitting the data\n",
    "\n",
    "# Load the data\n",
    "X=df.drop(\"Chirps/Second\", axis='columns')\n",
    "Y=df[\"Chirps/Second\"]\n",
    "\n",
    "# Model Fitting\n",
    "lr=LinearRegression()\n",
    "lr.fit(X,Y)\n",
    "Y_pred=lr.predict(X)"
   ]
  },
  {
   "cell_type": "code",
   "execution_count": null,
   "metadata": {},
   "outputs": [],
   "source": [
    "## 1.Find the linear regression equation for this data.\n",
    "lr.diff = pd.DataFrame({'Actual value': Y, 'Predicted value':Y_pred})\n",
    "print(lr.diff.head())\n",
    "print(\"coffecient\",lr.coef_)\n",
    "print(\"Intercept\",lr.intercept_)\n",
    "Yeq=(X*lr.coef_)+lr.intercept_\n"
   ]
  },
  {
   "cell_type": "code",
   "execution_count": 228,
   "metadata": {},
   "outputs": [
    {
     "data": {
      "text/plain": [
       "[<matplotlib.lines.Line2D at 0x1edc6d38af0>]"
      ]
     },
     "execution_count": 228,
     "metadata": {},
     "output_type": "execute_result"
    },
    {
     "data": {
      "image/png": "[encoded data removed]",
      "text/plain": [
       "<Figure size 432x288 with 1 Axes>"
      ]
     },
     "metadata": {
      "needs_background": "light"
     },
     "output_type": "display_data"
    }
   ],
   "source": [
    "## 2.Chart the original data and the equation on the chart.\n",
    "plt.xlabel(\"Ground Temperature\")\n",
    "plt.ylabel(\"Chirps/Second\")\n",
    "plt.scatter(X,Y,color=\"red\",marker=\"+\")\n",
    "plt.plot(X,Yeq,color=\"blue\")"
   ]
  },
  {
   "cell_type": "code",
   "execution_count": 229,
   "metadata": {},
   "outputs": [
    {
     "name": "stdout",
     "output_type": "stream",
     "text": [
      "Error score = 0.6922946529146998\n"
     ]
    }
   ],
   "source": [
    "## 3.Find the equation's  𝑅2  \n",
    "er_scr=metrics.r2_score(Y,Y_pred)\n",
    "print(\"Error score =\", er_scr)\n"
   ]
  },
  {
   "cell_type": "code",
   "execution_count": 231,
   "metadata": {},
   "outputs": [
    {
     "name": "stdout",
     "output_type": "stream",
     "text": [
      "[19.74428913]\n"
     ]
    }
   ],
   "source": [
    "## 4. Extrapolate data: If the ground temperature reached 95, then at what approximate rate would you expect the crickets to be chirping?\n",
    "Yeq=(95*lr.coef_)+lr.intercept_\n",
    "print(Yeq)"
   ]
  },
  {
   "cell_type": "code",
   "execution_count": 232,
   "metadata": {},
   "outputs": [
    {
     "data": {
      "text/plain": [
       "array([86.40743135])"
      ]
     },
     "execution_count": 232,
     "metadata": {},
     "output_type": "execute_result"
    }
   ],
   "source": [
    "# 5.Interpolate data: With a listening device, you discovered that on a particular morning the crickets were chirping at a rate of 18 chirps per second. What was the approximate ground temperature that morning?\n",
    "xeq=18-lr.intercept_\n",
    "xeq/lr.coef_"
   ]
  },
  {
   "cell_type": "markdown",
   "metadata": {},
   "source": [
    "# Assignment6"
   ]
  },
  {
   "cell_type": "markdown",
   "metadata": {},
   "source": [
    "## Brain vs. Body Weight\n",
    "\n",
    "In the file `brain_body.txt`, the average brain and body weight for a number of mammal species are recorded. Load this data into a Pandas data frame.\n",
    "\n",
    "### Tasks\n",
    "\n",
    "1. Find the linear regression equation for this data for brain weight to body weight.\n",
    "2. Chart the original data and the equation on the chart.\n",
    "3. Find the equation's $R^2$ score (use the `.score` method) to determine whether the\n",
    "equation is a good fit for this data. (0.8 and greater is considered a strong correlation.)"
   ]
  },
  {
   "cell_type": "code",
   "execution_count": 263,
   "metadata": {},
   "outputs": [
    {
     "name": "stdout",
     "output_type": "stream",
     "text": [
      "0.5321499328695538\n",
      "error score= 0.5767685364071481\n"
     ]
    },
    {
     "data": {
      "text/plain": [
       "[<matplotlib.lines.Line2D at 0x1edc6b18b20>]"
      ]
     },
     "execution_count": 263,
     "metadata": {},
     "output_type": "execute_result"
    },
    {
     "data": {
      "image/png": "[encoded data removed]",
      "text/plain": [
       "<Figure size 432x288 with 1 Axes>"
      ]
     },
     "metadata": {
      "needs_background": "light"
     },
     "output_type": "display_data"
    }
   ],
   "source": [
    "## 1. Find the linear regression equation for this data for brain weight to body weight.\n",
    "\n",
    "# with train test split\n",
    "\n",
    "# load the dataset\n",
    "brain_body= pd.read_fwf(\"brain_body.txt\")\n",
    "df1= pd.DataFrame(brain_body)\n",
    "\n",
    "import math\n",
    "x=np.log2(df1.Brain)\n",
    "y=np.log2(df1.Body)\n",
    "\n",
    "# split the training and testing data\n",
    "x_train,x_test,y_train,y_test=train_test_split(x, y, test_size=0.2, random_state=2)\n",
    "x_train = x_train.values.reshape(-1, 1)\n",
    "x_test = x_test.values.reshape(-1, 1)\n",
    "y_train = y_train.values.reshape(-1, 1)\n",
    "y_test = y_test.values.reshape(-1, 1)\n",
    "\n",
    "# Model fitting\n",
    "lr.fit(x_train,y_train)\n",
    "y_pred = lr.predict(x_train)\n",
    "r2=lr.score(y_train,y_pred)\n",
    "coeffecient=lr.coef_\n",
    "inter=lr.intercept_\n",
    "print(r2) \n",
    "\n",
    "# 3. Find the equation's  𝑅2  score\n",
    "# linear regression equation\n",
    "Y=(x_train*coeffecient)+inter\n",
    "y_pred_test= lr.predict(x_test)\n",
    "\n",
    "# r2 score\n",
    "erscore=lr.score(y_test,y_pred_test)\n",
    "print(\"error score=\",erscore)\n",
    "\n",
    "# 2. Chart the original data and the equation on the chart.\n",
    "plt.xlabel(\"Brain\")\n",
    "plt.ylabel(\"Body\")\n",
    "plt.scatter(x,y,color=\"red\",marker=\"+\")\n",
    "plt.plot(x_test,y_pred_test,color=\"blue\")"
   ]
  },
  {
   "cell_type": "code",
   "execution_count": 264,
   "metadata": {},
   "outputs": [
    {
     "name": "stdout",
     "output_type": "stream",
     "text": [
      "   Actual value  Predicted value\n",
      "0      5.475733         4.402182\n",
      "1      3.954196         2.283894\n",
      "2      3.017922         3.405299\n",
      "3      8.724514         9.740603\n",
      "4      6.900867         6.975904\n"
     ]
    }
   ],
   "source": [
    "## same dataset without splitting the data\n",
    "# load the dataset\n",
    "x=np.log2(df1.Brain).values.reshape(-1,1)\n",
    "y=np.log2(df1.Body).values.reshape(-1,1)\n",
    "\n",
    "# fit the model\n",
    "lr=LinearRegression()\n",
    "lr.fit(x,y)\n",
    "Y_pred=lr.predict(x)\n",
    "\n",
    "\n",
    "lr.diff = pd.DataFrame({'Actual value': y.flatten(), 'Predicted value':Y_pred.flatten()})\n",
    "print(lr.diff.head())\n"
   ]
  },
  {
   "cell_type": "code",
   "execution_count": 265,
   "metadata": {},
   "outputs": [
    {
     "name": "stdout",
     "output_type": "stream",
     "text": [
      "coffecient [[0.75168594]]\n",
      "Intercept [3.07984904]\n",
      "[[ 4.40218174]\n",
      " [ 2.28389354]\n",
      " [ 3.40529853]\n",
      " [ 9.74060344]\n",
      " [ 6.97590449]\n",
      " [ 6.68022115]\n",
      " [ 6.0042431 ]\n",
      " [ 3.12238208]\n",
      " [ 4.63354647]\n",
      " [ 2.15191887]\n",
      " [ 0.59359308]\n",
      " [ 2.98942555]\n",
      " [ 3.07984904]\n",
      " [-2.66593016]\n",
      " [ 0.02883573]\n",
      " [ 4.43841231]\n",
      " [ 3.83153497]\n",
      " [ 3.65529074]\n",
      " [11.58486214]\n",
      " [-1.01099295]\n",
      " [ 8.75332323]\n",
      " [ 9.86391952]\n",
      " [ 2.81733367]\n",
      " [ 5.57689567]\n",
      " [ 4.37460252]\n",
      " [ 1.33448834]\n",
      " [ 3.45245612]\n",
      " [ 9.88044485]\n",
      " [ 8.86293498]\n",
      " [ 7.89769806]\n",
      " [ 2.76787119]\n",
      " [ 7.55553467]\n",
      " [12.62626505]\n",
      " [ 4.43841231]\n",
      " [ 5.15866261]\n",
      " [ 6.93545894]\n",
      " [ 4.59669256]\n",
      " [ 0.78052167]\n",
      " [-1.01099295]\n",
      " [-1.91424422]\n",
      " [ 3.44473756]\n",
      " [ 9.06761706]\n",
      " [ 4.07352379]\n",
      " [ 7.43542995]\n",
      " [ 8.0739423 ]\n",
      " [ 7.36812106]\n",
      " [ 5.63495814]\n",
      " [ 2.43152257]\n",
      " [ 7.51997562]\n",
      " [ 4.46896232]\n",
      " [ 4.6586187 ]\n",
      " [ 1.69937686]\n",
      " [ 0.27082456]\n",
      " [ 0.79844693]\n",
      " [-0.21315309]\n",
      " [ 8.78135868]\n",
      " [ 4.27124306]\n",
      " [ 8.58363941]\n",
      " [ 2.96559045]\n",
      " [ 3.6030178 ]\n",
      " [ 0.62533545]\n",
      " [ 4.64513124]]\n"
     ]
    }
   ],
   "source": [
    "## 1. Find the linear regression equation for this data for brain weight to body weight.\n",
    "\n",
    "# Equation of the model\n",
    "print(\"coffecient\",lr.coef_)\n",
    "print(\"Intercept\",lr.intercept_)\n",
    "Yeq=(x*lr.coef_)+lr.intercept_\n",
    "print(Yeq)\n"
   ]
  },
  {
   "cell_type": "code",
   "execution_count": 266,
   "metadata": {},
   "outputs": [
    {
     "data": {
      "text/plain": [
       "[<matplotlib.lines.Line2D at 0x1edc55c17f0>]"
      ]
     },
     "execution_count": 266,
     "metadata": {},
     "output_type": "execute_result"
    },
    {
     "data": {
      "image/png": "[encoded data removed]",
      "text/plain": [
       "<Figure size 432x288 with 1 Axes>"
      ]
     },
     "metadata": {
      "needs_background": "light"
     },
     "output_type": "display_data"
    }
   ],
   "source": [
    "## 2. Chart the original data and the equation on the chart.\n",
    "# plot the graph\n",
    "plt.xlabel(\"Ground Temperature\")\n",
    "plt.ylabel(\"Chirps/Second\")\n",
    "plt.scatter(x,y,color=\"red\",marker=\"+\")\n",
    "plt.plot(x,Yeq,color=\"blue\")"
   ]
  },
  {
   "cell_type": "code",
   "execution_count": 267,
   "metadata": {},
   "outputs": [
    {
     "name": "stdout",
     "output_type": "stream",
     "text": [
      "Error score = 0.9207837169027255\n"
     ]
    }
   ],
   "source": [
    "## 3. Find the equation's  𝑅2  score (use the .score method) to determine whether the equation is a good fit for this data. (0.8 and greater is considered a strong correlation.)\n",
    "\n",
    "er_scr=metrics.r2_score(y,Y_pred)\n",
    "print(\"Error score =\", er_scr)"
   ]
  },
  {
   "cell_type": "markdown",
   "metadata": {},
   "source": [
    "# Assignment7"
   ]
  },
  {
   "cell_type": "markdown",
   "metadata": {},
   "source": [
    "## Salary Discrimination\n",
    "\n",
    "The file `salary.txt` contains data for 52 tenure-track professors at a small Midwestern college. This data was used in legal proceedings in the 1980s about discrimination against women in salary.\n",
    "\n",
    "The data in the file, by column:\n",
    "\n",
    "1. Sex. 1 for female, 0 for male.\n",
    "2. Rank. 1 for assistant professor, 2 for associate professor, 3 for full professor.\n",
    "3. Year. Number of years in current rank.\n",
    "4. Degree. Highest degree. 1 for doctorate, 0 for master's.\n",
    "5. YSdeg. Years since highest degree was earned.\n",
    "6. Salary. Salary/year in dollars.\n",
    "\n",
    "### Tasks\n",
    "\n",
    "1. Find the linear regression equation for this data using columns 1-5 to column 6.\n",
    "2. Find the selection of columns with the best $R^2$ score.\n",
    "3. Report whether sex is a factor in salary."
   ]
  },
  {
   "cell_type": "code",
   "execution_count": 268,
   "metadata": {},
   "outputs": [],
   "source": [
    "df2= pd.read_fwf(\"salary.txt\", header=None, \n",
    "                 names=[\"Sex\", \"Rank\", \"Year\", \"Degree\", \"YSdeg\", \"Salary\"])"
   ]
  },
  {
   "cell_type": "code",
   "execution_count": 269,
   "metadata": {},
   "outputs": [
    {
     "data": {
      "text/html": [
       "<div>\n",
       "<style scoped>\n",
       "    .dataframe tbody tr th:only-of-type {\n",
       "        vertical-align: middle;\n",
       "    }\n",
       "\n",
       "    .dataframe tbody tr th {\n",
       "        vertical-align: top;\n",
       "    }\n",
       "\n",
       "    .dataframe thead th {\n",
       "        text-align: right;\n",
       "    }\n",
       "</style>\n",
       "<table border=\"1\" class=\"dataframe\">\n",
       "  <thead>\n",
       "    <tr style=\"text-align: right;\">\n",
       "      <th></th>\n",
       "      <th>Sex</th>\n",
       "      <th>Rank</th>\n",
       "      <th>Year</th>\n",
       "      <th>Degree</th>\n",
       "      <th>YSdeg</th>\n",
       "      <th>Salary</th>\n",
       "    </tr>\n",
       "  </thead>\n",
       "  <tbody>\n",
       "    <tr>\n",
       "      <th>0</th>\n",
       "      <td>0</td>\n",
       "      <td>3</td>\n",
       "      <td>25</td>\n",
       "      <td>1</td>\n",
       "      <td>35</td>\n",
       "      <td>36350</td>\n",
       "    </tr>\n",
       "    <tr>\n",
       "      <th>1</th>\n",
       "      <td>0</td>\n",
       "      <td>3</td>\n",
       "      <td>13</td>\n",
       "      <td>1</td>\n",
       "      <td>22</td>\n",
       "      <td>35350</td>\n",
       "    </tr>\n",
       "    <tr>\n",
       "      <th>2</th>\n",
       "      <td>0</td>\n",
       "      <td>3</td>\n",
       "      <td>10</td>\n",
       "      <td>1</td>\n",
       "      <td>23</td>\n",
       "      <td>28200</td>\n",
       "    </tr>\n",
       "    <tr>\n",
       "      <th>3</th>\n",
       "      <td>1</td>\n",
       "      <td>3</td>\n",
       "      <td>7</td>\n",
       "      <td>1</td>\n",
       "      <td>27</td>\n",
       "      <td>26775</td>\n",
       "    </tr>\n",
       "    <tr>\n",
       "      <th>4</th>\n",
       "      <td>0</td>\n",
       "      <td>3</td>\n",
       "      <td>19</td>\n",
       "      <td>0</td>\n",
       "      <td>30</td>\n",
       "      <td>33696</td>\n",
       "    </tr>\n",
       "  </tbody>\n",
       "</table>\n",
       "</div>"
      ],
      "text/plain": [
       "   Sex  Rank  Year  Degree  YSdeg  Salary\n",
       "0    0     3    25       1     35   36350\n",
       "1    0     3    13       1     22   35350\n",
       "2    0     3    10       1     23   28200\n",
       "3    1     3     7       1     27   26775\n",
       "4    0     3    19       0     30   33696"
      ]
     },
     "execution_count": 269,
     "metadata": {},
     "output_type": "execute_result"
    }
   ],
   "source": [
    "df2.head()"
   ]
  },
  {
   "cell_type": "code",
   "execution_count": 270,
   "metadata": {},
   "outputs": [
    {
     "data": {
      "text/plain": [
       "Sex       0\n",
       "Rank      0\n",
       "Year      0\n",
       "Degree    0\n",
       "YSdeg     0\n",
       "Salary    0\n",
       "dtype: int64"
      ]
     },
     "execution_count": 270,
     "metadata": {},
     "output_type": "execute_result"
    }
   ],
   "source": [
    "df2.isnull().sum()"
   ]
  },
  {
   "cell_type": "code",
   "execution_count": 271,
   "metadata": {},
   "outputs": [],
   "source": [
    "x=df2.drop(\"Salary\", axis='columns')\n",
    "y=df2[\"Salary\"]"
   ]
  },
  {
   "cell_type": "code",
   "execution_count": 272,
   "metadata": {},
   "outputs": [],
   "source": [
    "x_train, x_test, y_train, y_test = train_test_split(x, y, test_size = 0.1, random_state = 2)"
   ]
  },
  {
   "cell_type": "code",
   "execution_count": 273,
   "metadata": {},
   "outputs": [
    {
     "name": "stdout",
     "output_type": "stream",
     "text": [
      "0.8416559098711706\n"
     ]
    }
   ],
   "source": [
    "mlr = LinearRegression()  \n",
    "mlr.fit(x_train, y_train)\n",
    "train_data_pred=mlr.predict(x_train)\n",
    "from sklearn import metrics\n",
    "error_score=metrics.r2_score(y_train,train_data_pred)\n",
    "print(error_score)\n"
   ]
  },
  {
   "cell_type": "code",
   "execution_count": 274,
   "metadata": {},
   "outputs": [
    {
     "data": {
      "text/plain": [
       "<matplotlib.collections.PathCollection at 0x1edc5579430>"
      ]
     },
     "execution_count": 274,
     "metadata": {},
     "output_type": "execute_result"
    },
    {
     "data": {
      "image/png": "[encoded data removed]",
      "text/plain": [
       "<Figure size 432x288 with 1 Axes>"
      ]
     },
     "metadata": {
      "needs_background": "light"
     },
     "output_type": "display_data"
    }
   ],
   "source": [
    "plt.scatter(y_train,train_data_pred)"
   ]
  },
  {
   "cell_type": "code",
   "execution_count": 275,
   "metadata": {},
   "outputs": [
    {
     "data": {
      "text/plain": [
       "array([16893.94642979, 18844.16352035, 19016.02391215, 16893.94642979,\n",
       "       17910.96727101, 33539.24216213])"
      ]
     },
     "execution_count": 275,
     "metadata": {},
     "output_type": "execute_result"
    }
   ],
   "source": [
    "y_pred_mlr= mlr.predict(x_test)\n",
    "y_pred_mlr"
   ]
  },
  {
   "cell_type": "code",
   "execution_count": 276,
   "metadata": {},
   "outputs": [
    {
     "data": {
      "text/plain": [
       "<matplotlib.collections.PathCollection at 0x1edc557d340>"
      ]
     },
     "execution_count": 276,
     "metadata": {},
     "output_type": "execute_result"
    },
    {
     "data": {
      "image/png": "[encoded data removed]",
      "text/plain": [
       "<Figure size 432x288 with 1 Axes>"
      ]
     },
     "metadata": {
      "needs_background": "light"
     },
     "output_type": "display_data"
    }
   ],
   "source": [
    "plt.scatter(y_test,y_pred_mlr)"
   ]
  },
  {
   "cell_type": "code",
   "execution_count": 277,
   "metadata": {},
   "outputs": [
    {
     "data": {
      "text/html": [
       "<div>\n",
       "<style scoped>\n",
       "    .dataframe tbody tr th:only-of-type {\n",
       "        vertical-align: middle;\n",
       "    }\n",
       "\n",
       "    .dataframe tbody tr th {\n",
       "        vertical-align: top;\n",
       "    }\n",
       "\n",
       "    .dataframe thead th {\n",
       "        text-align: right;\n",
       "    }\n",
       "</style>\n",
       "<table border=\"1\" class=\"dataframe\">\n",
       "  <thead>\n",
       "    <tr style=\"text-align: right;\">\n",
       "      <th></th>\n",
       "      <th>Actual value</th>\n",
       "      <th>Predicted value</th>\n",
       "    </tr>\n",
       "  </thead>\n",
       "  <tbody>\n",
       "    <tr>\n",
       "      <th>37</th>\n",
       "      <td>17095</td>\n",
       "      <td>16893.946430</td>\n",
       "    </tr>\n",
       "    <tr>\n",
       "      <th>36</th>\n",
       "      <td>18304</td>\n",
       "      <td>18844.163520</td>\n",
       "    </tr>\n",
       "    <tr>\n",
       "      <th>32</th>\n",
       "      <td>23713</td>\n",
       "      <td>19016.023912</td>\n",
       "    </tr>\n",
       "    <tr>\n",
       "      <th>39</th>\n",
       "      <td>17600</td>\n",
       "      <td>16893.946430</td>\n",
       "    </tr>\n",
       "    <tr>\n",
       "      <th>47</th>\n",
       "      <td>15350</td>\n",
       "      <td>17910.967271</td>\n",
       "    </tr>\n",
       "  </tbody>\n",
       "</table>\n",
       "</div>"
      ],
      "text/plain": [
       "    Actual value  Predicted value\n",
       "37         17095     16893.946430\n",
       "36         18304     18844.163520\n",
       "32         23713     19016.023912\n",
       "39         17600     16893.946430\n",
       "47         15350     17910.967271"
      ]
     },
     "execution_count": 277,
     "metadata": {},
     "output_type": "execute_result"
    }
   ],
   "source": [
    "mlr_diff = pd.DataFrame({'Actual value': y_test, 'Predicted value': y_pred_mlr})\n",
    "mlr_diff.head()  "
   ]
  },
  {
   "cell_type": "code",
   "execution_count": 278,
   "metadata": {},
   "outputs": [
    {
     "name": "stdout",
     "output_type": "stream",
     "text": [
      "Intercept:  11145.95148420902\n",
      "Coefficients:\n"
     ]
    },
    {
     "data": {
      "text/plain": [
       "[('Sex', 1620.4547588761538),\n",
       " ('Rank', 5885.541051525827),\n",
       " ('Year', 447.90120942534395),\n",
       " ('Degree', -1344.4139412451595),\n",
       " ('YSdeg', -146.18425060116488)]"
      ]
     },
     "execution_count": 278,
     "metadata": {},
     "output_type": "execute_result"
    }
   ],
   "source": [
    "print(\"Intercept: \", mlr.intercept_)\n",
    "print(\"Coefficients:\")\n",
    "list(zip(x, mlr.coef_))"
   ]
  },
  {
   "cell_type": "code",
   "execution_count": 279,
   "metadata": {},
   "outputs": [],
   "source": [
    "## 1. Find the linear regression equation for this data using columns 1-5 to column 6.\n",
    "Y=(x_test*mlr.coef_)+mlr.intercept_\n"
   ]
  },
  {
   "cell_type": "code",
   "execution_count": 280,
   "metadata": {},
   "outputs": [
    {
     "name": "stdout",
     "output_type": "stream",
     "text": [
      "0.8787350351714398\n"
     ]
    }
   ],
   "source": [
    "error_score=metrics.r2_score(y_test,y_pred_mlr)\n",
    "print(error_score)"
   ]
  },
  {
   "cell_type": "code",
   "execution_count": 281,
   "metadata": {},
   "outputs": [
    {
     "name": "stdout",
     "output_type": "stream",
     "text": [
      "Coefficients:\n"
     ]
    },
    {
     "data": {
      "text/plain": [
       "[('Sex', 1620.4547588761538),\n",
       " ('Rank', 5885.541051525827),\n",
       " ('Year', 447.90120942534395),\n",
       " ('Degree', -1344.4139412451595),\n",
       " ('YSdeg', -146.18425060116488)]"
      ]
     },
     "execution_count": 281,
     "metadata": {},
     "output_type": "execute_result"
    }
   ],
   "source": [
    "## 2.Find the selection of columns with the best  𝑅2  score.\n",
    "\n",
    "print(\"Coefficients:\")\n",
    "list(zip(x, mlr.coef_))\n",
    "\n",
    "## since the coeffecient value of degree and YSdeg have is negative,we can conclude that sex, Rank, Year are the best columns  "
   ]
  },
  {
   "cell_type": "code",
   "execution_count": 286,
   "metadata": {},
   "outputs": [
    {
     "data": {
      "text/plain": [
       "Rank      0.867488\n",
       "Year      0.700669\n",
       "YSdeg     0.674854\n",
       "Degree   -0.069726\n",
       "Sex      -0.252782\n",
       "Name: Salary, dtype: float64"
      ]
     },
     "execution_count": 286,
     "metadata": {},
     "output_type": "execute_result"
    }
   ],
   "source": [
    "## 3.Report whether sex is a factor in salary.\n",
    "corr = df2.corr()[\"Salary\"].sort_values(ascending=False)[1:]\n",
    "corr\n",
    "\n"
   ]
  },
  {
   "cell_type": "raw",
   "metadata": {},
   "source": [
    "-> From the result, the correlation value between sex and salary is -0.252782\n",
    "-> Since the corrrelation between sex and city is negative, we can conclude that sex is not a factor or a bad factor to predict the salary.  \n",
    "\n"
   ]
  },
  {
   "cell_type": "code",
   "execution_count": null,
   "metadata": {},
   "outputs": [],
   "source": []
  }
 ],
 "metadata": {
  "kernelspec": {
   "display_name": "Python 3",
   "language": "python",
   "name": "python3"
  },
  "language_info": {
   "codemirror_mode": {
    "name": "ipython",
    "version": 3
   },
   "file_extension": ".py",
   "mimetype": "text/x-python",
   "name": "python",
   "nbconvert_exporter": "python",
   "pygments_lexer": "ipython3",
   "version": "3.8.5"
  }
 },
 "nbformat": 4,
 "nbformat_minor": 1
}
